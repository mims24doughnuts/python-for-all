{
 "cells": [
  {
   "cell_type": "markdown",
   "metadata": {},
   "source": [
    "# The wiles of files\n",
    "\n",
    "In this lesson we will use Python to create, manipulate and manage files. \n",
    "\n",
    "For every bit of code we provide, we'll have an explanation immediately after."
   ]
  },
  {
   "cell_type": "markdown",
   "metadata": {},
   "source": [
    "# Part 1 / 8 - Fun with text files\n",
    "\n",
    "In this section we will do the following: \n",
    "\n",
    "* Demo 1: Create a text file. \n",
    "* Demo 2: Add additional text to the text file.\n",
    "* Demo 5: Search for text in the text file.\n",
    "* Demo 3: Remove text from the text file.\n",
    "* Demo 4: Replace text in the text file.\n",
    "* Demo 6: Combine two text files.\n",
    "* Demo 7: Delete our text files."
   ]
  },
  {
   "cell_type": "markdown",
   "metadata": {},
   "source": [
    "## Demo 1: Create a text file\n",
    "\n",
    "Create a text file by running the code below."
   ]
  },
  {
   "cell_type": "code",
   "execution_count": 7,
   "metadata": {},
   "outputs": [],
   "source": [
    "filename = \"exercise.txt\"\n",
    "part_1 = \"Roses are red\"\n",
    "part_2 = \"Violets are blue\"\n",
    "part_3 = \"Ever wondered if programming in Python is for you\"\n",
    "\n",
    "with open(file = filename, mode = \"w\") as file_handle:\n",
    "    file_handle.write(part_1 + \",\" + \" \")\n",
    "    file_handle.write(part_2 + \"\\n\")\n",
    "    file_handle.write(part_3)\n"
   ]
  },
  {
   "cell_type": "markdown",
   "metadata": {},
   "source": [
    "### Demo 1: Behind the scenes\n",
    "\n",
    "There's a bit to unpack, read on to learn what just happened. \n",
    "* Variables, functions, objects\n",
    "* Context manager\n",
    "* File writing\n",
    "* Punctuation"
   ]
  },
  {
   "cell_type": "markdown",
   "metadata": {},
   "source": [
    "## Demo 2: Add additional text to the text file.\n",
    "\n",
    "For all that talk about punctuation, we left out a question mark at the end of the last sentence. \n",
    "Let's run the code below to add a character."
   ]
  },
  {
   "cell_type": "code",
   "execution_count": 11,
   "metadata": {},
   "outputs": [],
   "source": [
    "filename = \"exercise.txt\"\n",
    "additional_content = \"?\"\n",
    "\n",
    "with open(file = filename, mode = \"w\") as file_handle:\n",
    "    file_handle.write(additional_content)    \n"
   ]
  },
  {
   "cell_type": "markdown",
   "metadata": {},
   "source": [
    "### Demo 2 - Behind the scenes\n",
    "\n",
    "If you ran the code above as-is, you'll see that the file \"exercise.txt\" now contains nothing but a \"?\" mark. \n",
    "\n",
    "This deception was intentional. We want to stress the importance of opening files in the correct mode.\n",
    "* Why was the text file overwritten? Because in the code above, we opened the file in \"w\" mode.\n",
    "* Normally we'd point you to https://docs.python.org but for brevity, setting mode = \"w\" means that every write to the opened file becomes the whole file contents. Even if the file already contains text.\n",
    "* Since we wanted to keep our poem intact, we should have opened the file in append \"a\" or combined-read/write (\"r+\" or \"w+\") mode.\n",
    "\n",
    "Let's recreate the poem by running Demo 1 again, then append the question mark by opening the file in \"append\" mode.\n",
    "* The code below will reproduce our complete poem in all its punctuated glory.\n",
    "* Lines starting with \"#\" are comments - programmers may use these to add helpful notes for others. Or in the case of Demo 2, warnings to users that certain code is dangerous. "
   ]
  },
  {
   "cell_type": "code",
   "execution_count": 12,
   "metadata": {},
   "outputs": [],
   "source": [
    "# Demo 1 - Code copied here because our poem was overwritten\n",
    "\n",
    "filename = \"exercise.txt\"\n",
    "part_1 = \"Roses are red\"\n",
    "part_2 = \"Violets are blue\"\n",
    "part_3 = \"Ever wondered if programming in Python is for you\"\n",
    "\n",
    "with open(file = filename, mode = \"w\") as file_handle:\n",
    "    file_handle.write(part_1 + \",\" + \" \")\n",
    "    file_handle.write(part_2 +  \".\" + \"\\n\")\n",
    "    file_handle.write(part_3)\n",
    "\n",
    "# Demo 2 - Let's open the file in Append mode this time\n",
    "additional_content = \"?\"\n",
    "\n",
    "with open(file = filename, mode = \"a\") as file_handle:\n",
    "    file_handle.write(additional_content)\n"
   ]
  },
  {
   "cell_type": "markdown",
   "metadata": {},
   "source": [
    "Open your completed file and admire it. Our poem is nearly perfect, save for one"
   ]
  },
  {
   "cell_type": "code",
   "execution_count": 1,
   "metadata": {},
   "outputs": [
    {
     "name": "stdout",
     "output_type": "stream",
     "text": [
      "Requirement already satisfied: pyjokes in .\\venv\\lib\\site-packages (0.6.0)Note: you may need to restart the kernel to use updated packages.\n",
      "\n"
     ]
    }
   ],
   "source": [
    "pip install pyjokes"
   ]
  },
  {
   "cell_type": "code",
   "execution_count": 2,
   "metadata": {},
   "outputs": [
    {
     "ename": "NameError",
     "evalue": "name 'get_jokes' is not defined",
     "output_type": "error",
     "traceback": [
      "\u001b[1;31m---------------------------------------------------------------------------\u001b[0m",
      "\u001b[1;31mNameError\u001b[0m                                 Traceback (most recent call last)",
      "\u001b[1;32md:\\pythontraining\\lesson2-the_wiles_of_files\\lesson.ipynb Cell 12'\u001b[0m in \u001b[0;36m<cell line: 2>\u001b[1;34m()\u001b[0m\n\u001b[0;32m      <a href='vscode-notebook-cell:/d%3A/pythontraining/lesson2-the_wiles_of_files/lesson.ipynb#ch0000013?line=0'>1</a>\u001b[0m \u001b[39mimport\u001b[39;00m \u001b[39mpyjokes\u001b[39;00m\n\u001b[1;32m----> <a href='vscode-notebook-cell:/d%3A/pythontraining/lesson2-the_wiles_of_files/lesson.ipynb#ch0000013?line=1'>2</a>\u001b[0m get_jokes(language \u001b[39m=\u001b[39m \u001b[39m\"\u001b[39m\u001b[39men\u001b[39m\u001b[39m\"\u001b[39m, category \u001b[39m=\u001b[39m \u001b[39m\"\u001b[39m\u001b[39mneutral\u001b[39m\u001b[39m\"\u001b[39m)\n",
      "\u001b[1;31mNameError\u001b[0m: name 'get_jokes' is not defined"
     ]
    }
   ],
   "source": []
  },
  {
   "cell_type": "markdown",
   "metadata": {},
   "source": [
    "### Demo 2 - Behind the scenes\n",
    "\n",
    "We want you to notice the following:\n",
    "* Look inside the text file. \n",
    "    * Notice how the text stored in \"content\" got added to the same line as the existing text, but the text in \"bonus_content\" was added to its own line."
   ]
  },
  {
   "cell_type": "code",
   "execution_count": null,
   "metadata": {},
   "outputs": [],
   "source": [
    "filename = \"question.txt\"\n",
    "content = \"Have you wondered if programming is for you?\""
   ]
  },
  {
   "cell_type": "markdown",
   "metadata": {},
   "source": [
    "##\n",
    "\n",
    "# 8 minutes - Word Document file\n",
    "\n",
    "# 8 minutes - Excel file\n",
    "\n",
    "# 8 minutes - Powerpoint files\n",
    "The only use I can think of for this is \n",
    "\n",
    "# 8 minutes\n",
    "\n",
    "# 8 minutes\n",
    "\n",
    "# 8 minutes - Advanced topic! PDF files\n",
    "\n",
    "# 8 minutes"
   ]
  }
 ],
 "metadata": {
  "interpreter": {
   "hash": "2a8640726498a254ef2a0d991d27f21e4ddb152f82b23f65e9a64227a73bdf62"
  },
  "kernelspec": {
   "display_name": "Python 3.10.4 64-bit",
   "language": "python",
   "name": "python3"
  },
  "language_info": {
   "codemirror_mode": {
    "name": "ipython",
    "version": 3
   },
   "file_extension": ".py",
   "mimetype": "text/x-python",
   "name": "python",
   "nbconvert_exporter": "python",
   "pygments_lexer": "ipython3",
   "version": "3.10.4"
  },
  "orig_nbformat": 4
 },
 "nbformat": 4,
 "nbformat_minor": 2
}
